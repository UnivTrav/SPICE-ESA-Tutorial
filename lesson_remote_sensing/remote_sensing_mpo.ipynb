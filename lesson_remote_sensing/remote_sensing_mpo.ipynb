{
 "cells": [
  {
   "cell_type": "markdown",
   "metadata": {},
   "source": [
    "# Remote Sensing Hands-On Lesson using BepiColombo MPO\n",
    "\n",
    " \n",
    "   Virtual SPICE Training for BepiColombo, July  21-22, 2020\n",
    " \n",
    " \n",
    "## Overview\n",
    "\n",
    " \n",
    "   In this lesson you will develop a series of simple programs that\n",
    "   demonstrate the usage of SpiceyPy to compute a variety of different\n",
    "   geometric quantities applicable to experiments carried out by a remote\n",
    "   sensing instrument flown on an interplanetary spacecraft. \n",
    "   \n",
    "   You may find it useful to consult the permuted index, the headers of\n",
    "   various source modules, and several Required Reading documents available at \n",
    "   the NAIF site."
   ]
  },
  {
   "cell_type": "markdown",
   "metadata": {},
   "source": [
    "## Initialise SPICE by importing SpiceyPy\n",
    "\n",
    "For the following exercises, instead of loading the meta-kernel try to sort out the exact kernels that you need to load for the given execrcise and load them (unless indicated).\n"
   ]
  },
  {
   "cell_type": "code",
   "execution_count": 7,
   "metadata": {},
   "outputs": [],
   "source": [
    "import spiceypy "
   ]
  },
  {
   "cell_type": "markdown",
   "metadata": {},
   "source": [
    "## Time Conversion \n",
    "\n",
    "\n",
    "Write a program that given a UTC time string,\n",
    "converts it to the following time systems and output formats:\n",
    " \n",
    "* Ephemeris Time (ET) in seconds past J2000\n",
    "* Calendar Ephemeris Time\n",
    "* Spacecraft Clock Time (TIP: You will need to know the NAIF ID of MPO)\n",
    " \n",
    "and displays the results. Use the program to convert \"2020-OCT-15 03:57:49\" UTC into these alternate systems."
   ]
  },
  {
   "cell_type": "code",
   "execution_count": 8,
   "metadata": {},
   "outputs": [
    {
     "name": "stdout",
     "output_type": "stream",
     "text": [
      "   Ephemeris Time (ET) in seconds past J2000: 656006338.1823678\n",
      "   Calendar Ephemeris Time:                   2020-OCT-15T03:58:58\n",
      "   Spacecraft Clock Time:                     1/0667454267:48104\n"
     ]
    }
   ],
   "source": [
    "#\n",
    "# We need to load the leapseconds kernel and the SCLK kernel.\n",
    "#\n",
    "spiceypy.furnsh('../kernels/lsk/naif0012.tls')\n",
    "spiceypy.furnsh('../kernels/sclk/bc_mpo_step_20200713.tsc')\n",
    "\n",
    "et = spiceypy.utc2et('2020-10-15T03:57:49')\n",
    "print('   Ephemeris Time (ET) in seconds past J2000: {}'.format(et))\n",
    "\n",
    "calet = spiceypy.timout( et, 'YYYY-MON-DDTHR:MN:SC ::TDB' )\n",
    "print( '   Calendar Ephemeris Time:                   {:s}'.format( calet ) )\n",
    "\n",
    "#\n",
    "# We will need the SCLK ID of MPO that we can retrieve from the SCLK file itself.\n",
    "#\n",
    "sclkid = -121\n",
    "\n",
    "sclkst = spiceypy.sce2s( sclkid, et )\n",
    "print( '   Spacecraft Clock Time:                     {:s}'.format( sclkst ) )\n",
    "\n",
    "#\n",
    "# We unload all the kernels in the kernel pool\n",
    "#\n",
    "spiceypy.kclear()"
   ]
  },
  {
   "cell_type": "markdown",
   "metadata": {},
   "source": [
    "## Obtaining Target States and Positions - Venus Flyby\n",
    " \n",
    "Write a program that given a UTC time string computes the following quantities at that epoch:\n",
    " \n",
    "* The apparent state of Venus as seen from BepiColombo MPO in the J2000 frame, in kilometers and kilometers/second. This vector itself is not of any particular interest, but it is a useful intermediate quantity in some geometry calculations.\n",
    "  \n",
    "* The one-way light time between BepiColombo MPO and the apparent position of Earth, in seconds.\n",
    "  \n",
    "* The actual (geometric) distance between the Sun and Venus, in astronomical units.\n",
    " \n",
    "and displays the results. Use the program to compute these quantities at\n",
    "\"2020-OCT-15 03:57:49\" UTC.\n",
    "\n",
    "![title](img/observer_target.png)"
   ]
  },
  {
   "cell_type": "code",
   "execution_count": 11,
   "metadata": {},
   "outputs": [
    {
     "name": "stdout",
     "output_type": "stream",
     "text": [
      " Apparent state of Venus as seen from BepiColombo MPO in the J2000\n",
      " frame (km, km/s):\n",
      "      X =        14496.540\n",
      "      Y =          786.114\n",
      "      Z =         8286.990\n",
      "     VX =            2.258\n",
      "     VY =           -9.366\n",
      "     VZ =           -3.061\n",
      "\n",
      " One way light time between BepiColombo MPO and the apparent\n",
      " position of Earth: 582.6527711004886 seconds\n",
      "\n",
      " Actual distance between Sun and Venus body centers: 0.7188927953509128 AU\n"
     ]
    }
   ],
   "source": [
    "#\n",
    "# We need to load the leapseconds kernel the Solar System ephemeris and the MPO SPK.\n",
    "#\n",
    "spiceypy.furnsh('../kernels/lsk/naif0012.tls')\n",
    "spiceypy.furnsh('../kernels/spk/de432s_20201013_20201016.bsp')\n",
    "spiceypy.furnsh('../kernels/spk/bc_mpo_fcp_Venus1SwingbyMTP_v01.bsp')\n",
    "\n",
    "et = spiceypy.utc2et('2020-10-15T03:57:49')\n",
    "\n",
    "#\n",
    "# Compute the apparent state of Mercury as seen from BepiColombo MPO in the J2000 frame.  \n",
    "# All of the ephemeris readers return states in units of kilometers and km/s.\n",
    "#\n",
    "[state, ltime] = spiceypy.spkezr('VENUS', et,'J2000','LT+S','MPO' )\n",
    " \n",
    "print( ' Apparent state of Venus as seen from BepiColombo MPO in the J2000\\n'\n",
    "       ' frame (km, km/s):')\n",
    "print( '      X = {:16.3f}'.format(state[0])       )\n",
    "print( '      Y = {:16.3f}'.format(state[1])       )\n",
    "print( '      Z = {:16.3f}'.format(state[2])       )\n",
    "print( '     VX = {:16.3f}'.format(state[3])       )\n",
    "print( '     VY = {:16.3f}'.format(state[4])       )\n",
    "print( '     VZ = {:16.3f}\\n'.format(state[5])     )\n",
    " \n",
    "#\n",
    "# Compute the apparent position of Earth as seen from\n",
    "# BepiColombo MPO in the J2000 frame.  \n",
    "#\n",
    "[pos, ltime] = spiceypy.spkpos( 'EARTH', et, 'J2000', 'LT+S', 'MPO')\n",
    " \n",
    "print( ' One way light time between BepiColombo MPO and the apparent\\n'\n",
    "       ' position of Earth: {} seconds\\n'.format(ltime))\n",
    " \n",
    "#\n",
    "# Now we need to compute the actual distance between the Sun and Mercury.  \n",
    "# We need to adjust our aberration correction appropriately.\n",
    "#\n",
    "[pos, ltime] = spiceypy.spkpos( 'SUN',  et, 'J2000','NONE', 'VENUS')\n",
    " \n",
    "#\n",
    "# Compute the distance between the body centers in kilometers.\n",
    "#\n",
    "dist = spiceypy.vnorm( pos )\n",
    " \n",
    "#\n",
    "# Convert this value to AU using convrt.\n",
    "#\n",
    "dist = spiceypy.convrt( dist, 'KM', 'AU' )\n",
    " \n",
    "print( ' Actual distance between Sun and Venus body centers: {} AU'.format(dist))\n",
    " \n",
    "spiceypy.kclear()"
   ]
  },
  {
   "cell_type": "markdown",
   "metadata": {},
   "source": [
    "## Spacecraft Orientation and Reference Frames\n",
    "\n",
    " \n",
    "Write a program that given a UTC time string\n",
    "computes and displays the following at the epoch of interest:\n",
    " \n",
    "* The angular separation between the apparent position of BepiColombo MMO as seen from BepiColombo MPO and the nominal instrument view direction.\n",
    " \n",
    "The nominal instrument view direction is not provided by any kernel variable, but it is indicated in the BepiColombo MPO frame kernel.\n",
    " \n",
    "Use the program to compute these quantities at the epoch \"2027 JUN 11 20:50:00\" UTC.\n",
    "\n",
    "![title](img/angular_separation.png)"
   ]
  },
  {
   "cell_type": "code",
   "execution_count": 10,
   "metadata": {},
   "outputs": [
    {
     "name": "stdout",
     "output_type": "stream",
     "text": [
      " Angular separation between the apparent position of MMO and the\n",
      " MPO nominal instrument view direction (degrees): 79.750\n"
     ]
    }
   ],
   "source": [
    "#\n",
    "# Since we need orientation information in addition to the kernels we loaded before\n",
    "# now we need to load the Frames Kernel, the SCLK kernel and the MPO CK kernel.\n",
    "# It is also important to note that we need to load the frames kernel containing the \n",
    "# MPO Science frames\n",
    "#\n",
    "spiceypy.furnsh('../kernels/lsk/naif0012.tls')\n",
    "spiceypy.furnsh('../kernels/spk/de432s_20270609_20270614.bsp')\n",
    "spiceypy.furnsh('../kernels/spk/bc_mpo_mlt_50037_20270609_20270614_v01.bsp')\n",
    "spiceypy.furnsh('../kernels/spk/bc_mmo_mlt_50038_20270609_20270614_v01.bsp')\n",
    "spiceypy.furnsh('../kernels/spk/bc_mpo_cog_v01.bsp')\n",
    "spiceypy.furnsh('../kernels/sclk/bc_mpo_step_20200713.tsc')\n",
    "spiceypy.furnsh('../kernels/ck/bc_mpo_sc_slt_50028_20270609_20270614_s20200713_v01.bc')\n",
    "spiceypy.furnsh('../kernels/fk/bc_mpo_v23.tf')\n",
    "spiceypy.furnsh('../kernels/fk/bc_sci_v06.tf')\n",
    "\n",
    " \n",
    "et = spiceypy.utc2et('2027-06-11T20:50:00')\n",
    "\n",
    "#\n",
    "# We compute the apparent position of MMO as seen from \n",
    "# MPO in the J2000 frame.\n",
    "#\n",
    "[pos, ltime] = spiceypy.spkpos('MMO',et,'J2000','LT+S','MPO')\n",
    "[pos, ltime] = spiceypy.spkpos('MMO',et,'MPO_SPACECRAFT','LT+S','MPO')\n",
    "\n",
    "#\n",
    "# Now compute the location of the nominal instrument view\n",
    "# direction.  From reading the frame kernel we know that\n",
    "# the instrument view direction is nominally the +Z axis\n",
    "# of the TGO_SPACECRAFT frame defined there.\n",
    "#\n",
    "bsight = [ 0.0, 0.0, 1.0]\n",
    "\n",
    "#\n",
    "# Now compute the rotation matrix from MPO_SPACERAFT into\n",
    "# J2000.\n",
    "#\n",
    "pform = spiceypy.pxform('MPO_SPACECRAFT','J2000', et )\n",
    "\n",
    "#\n",
    "# And multiply the result to obtain the nominal instrument\n",
    "# view direction in the J2000 reference frame.\n",
    "#\n",
    "#bsight = spiceypy.mxv(pform, bsight)\n",
    "\n",
    "\n",
    "#\n",
    "# Lastly compute the angular separation.\n",
    "#\n",
    "sep =  spiceypy.convrt(spiceypy.vsep(bsight, pos),'RADIANS','DEGREES')\n",
    "\n",
    "print(' Angular separation between the apparent position of MMO and the\\n'\n",
    "      ' MPO nominal instrument view direction (degrees): {:.3f}'.format(sep))\n",
    "\n",
    "\n",
    "spiceypy.kclear()"
   ]
  },
  {
   "cell_type": "markdown",
   "metadata": {},
   "source": [
    "## Computing Sub-s/c and Sub-solar Points on an Ellipsoid\n",
    "\n",
    " \n",
    "Write a program that given a UTC time string computes the following quantities at that epoch:\n",
    " \n",
    "* The apparent sub-observer point of MPO on Mercury, in the body fixed frame IAU_MERCURY, in kilometers.\n",
    "* The apparent sub-solar point on MPO, as seen from MPO in the body fixed frame IAU_MERCURY, in kilometers.\n",
    "\n",
    "For the computations use the ellipsoidal shape model:\n",
    "    \n",
    "    near point/ellipsoid\n",
    "    \n",
    "definition.\n",
    "\n",
    "The program displays the results. Use the program to compute these quantities at \"2027 JUN 11 20:10:00\" UTC.\n",
    "   \n",
    "![title](img/sub_solar_sc.png)"
   ]
  },
  {
   "cell_type": "code",
   "execution_count": null,
   "metadata": {},
   "outputs": [],
   "source": []
  },
  {
   "cell_type": "markdown",
   "metadata": {},
   "source": [
    "## Intersecting Vectors with an Ellipsoid (fovint)\n",
    " \n",
    "   Write a program given an input UTC time string that computes the intersection of the MPO SERENA ELENA\n",
    "   boresight and field of view (FOV) boundary vectors with the surface of Mercury.   \n",
    "   The program presents each point of intersection as\n",
    " \n",
    "* Planetocentric (latitudinal) coordinates in the IAU_MERCURY frame.\n",
    " \n",
    "For each of the sensor FOV boundary and boresight vectors, if an\n",
    "   intersection is found, the program displays the results of the above\n",
    "   computations, otherwise it indicates no intersection exists.\n",
    " \n",
    "   At each point of intersection compute the following:\n",
    " \n",
    "* Phase angle\n",
    "* Solar incidence angle\n",
    "* Emission angle\n",
    "\n",
    " \n",
    " Use this program to compute values at \"2027 JUN 11 20:10:00\" UTC.\n",
    " \n",
    "![title](img/fov_intersection.png)"
   ]
  },
  {
   "cell_type": "code",
   "execution_count": null,
   "metadata": {},
   "outputs": [],
   "source": []
  },
  {
   "cell_type": "markdown",
   "metadata": {},
   "source": [
    "## Extra Credit: Lessons with WGC\n",
    "\n",
    "Try to reproduce all the previous calculations with WebGeocalc. You will need to load the appropriate meta-kernel: \"SPICE CLASS -- BepiColombo Remote Sensing Lesson Kernels\""
   ]
  }
 ],
 "metadata": {
  "kernelspec": {
   "display_name": "Python 3",
   "language": "python",
   "name": "python3"
  },
  "language_info": {
   "codemirror_mode": {
    "name": "ipython",
    "version": 3
   },
   "file_extension": ".py",
   "mimetype": "text/x-python",
   "name": "python",
   "nbconvert_exporter": "python",
   "pygments_lexer": "ipython3",
   "version": "3.7.4"
  }
 },
 "nbformat": 4,
 "nbformat_minor": 4
}
