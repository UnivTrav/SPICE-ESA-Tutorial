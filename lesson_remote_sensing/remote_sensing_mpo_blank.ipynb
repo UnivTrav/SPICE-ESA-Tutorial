{
 "cells": [
  {
   "cell_type": "markdown",
   "metadata": {},
   "source": [
    "# Remote Sensing Hands-On Lesson using BepiColombo MPO\n",
    "\n",
    " \n",
    "   Virtual SPICE Training for BepiColombo, July  21-22, 2020\n",
    " \n",
    " \n",
    "## Overview\n",
    "\n",
    " \n",
    "   In this lesson you will develop a series of simple programs that\n",
    "   demonstrate the usage of SpiceyPy to compute a variety of different\n",
    "   geometric quantities applicable to experiments carried out by a remote\n",
    "   sensing instrument flown on an interplanetary spacecraft. \n",
    "   \n",
    "   You may find it useful to consult the permuted index, the headers of\n",
    "   various source modules, and several Required Reading documents available at \n",
    "   the NAIF site."
   ]
  },
  {
   "cell_type": "markdown",
   "metadata": {},
   "source": [
    "## Initialise SPICE by importing SpiceyPy\n",
    "\n",
    "For the following exercises, instead of loading the meta-kernel try to sort out the exact kernels that you need to load for the given execrcise and load them (unless indicated).\n"
   ]
  },
  {
   "cell_type": "code",
   "execution_count": 1,
   "metadata": {},
   "outputs": [],
   "source": []
  },
  {
   "cell_type": "markdown",
   "metadata": {},
   "source": [
    "## Time Conversion \n",
    "\n",
    "\n",
    "Write a program that given a UTC time string,\n",
    "converts it to the following time systems and output formats:\n",
    " \n",
    "* Ephemeris Time (ET) in seconds past J2000\n",
    "* Calendar Ephemeris Time\n",
    "* Spacecraft Clock Time (TIP: You will need to know the NAIF ID of MPO)\n",
    " \n",
    "and displays the results. Use the program to convert \"2020-OCT-15 03:57:49\" UTC into these alternate systems."
   ]
  },
  {
   "cell_type": "code",
   "execution_count": 4,
   "metadata": {},
   "outputs": [
    {
     "name": "stdout",
     "output_type": "stream",
     "text": [
      "   Ephemeris Time (ET) in seconds past J2000: 656006338.1823678\n",
      "   Calendar Ephemeris Time:                   2020-OCT-15T03:58:58\n",
      "   Spacecraft Clock Time:                     1/0667454267:48104\n"
     ]
    }
   ],
   "source": []
  },
  {
   "cell_type": "markdown",
   "metadata": {},
   "source": [
    "## Obtaining Target States and Positions - Venus Flyby\n",
    " \n",
    "Write a program that given a UTC time string computes the following quantities at that epoch:\n",
    " \n",
    "* The apparent state of Venus as seen from BepiColombo MPO in the J2000 frame, in kilometers and kilometers/second. This vector itself is not of any particular interest, but it is a useful intermediate quantity in some geometry calculations.\n",
    "  \n",
    "* The one-way light time between BepiColombo MPO and the apparent position of Earth, in seconds.\n",
    "  \n",
    "* The actual (geometric) distance between the Sun and Venus, in astronomical units.\n",
    " \n",
    "and displays the results. Use the program to compute these quantities at\n",
    "\"2020-OCT-15 03:57:49\" UTC.\n",
    "\n",
    "![title](img/observer_target.png)"
   ]
  },
  {
   "cell_type": "code",
   "execution_count": null,
   "metadata": {},
   "outputs": [],
   "source": []
  },
  {
   "cell_type": "markdown",
   "metadata": {},
   "source": [
    "## Spacecraft Orientation and Reference Frames\n",
    "\n",
    " \n",
    "Write a program that given a UTC time string\n",
    "computes and displays the following at the epoch of interest:\n",
    " \n",
    "* The angular separation between the apparent position of BepiColombo MMO as seen from BepiColombo MPO and the nominal instrument view direction.\n",
    " \n",
    "The nominal instrument view direction is not provided by any kernel variable, but it is indicated in the BepiColombo MPO frame kernel.\n",
    " \n",
    "Use the program to compute these quantities at the epoch \"2027 JUN 11 20:50:00\" UTC.\n",
    "\n",
    "![title](img/angular_separation.png)"
   ]
  },
  {
   "cell_type": "code",
   "execution_count": null,
   "metadata": {},
   "outputs": [],
   "source": []
  },
  {
   "cell_type": "markdown",
   "metadata": {},
   "source": [
    "## Computing Sub-s/c and Sub-solar Points on an Ellipsoid\n",
    "\n",
    " \n",
    "Write a program that given a UTC time string computes the following quantities at that epoch:\n",
    " \n",
    "* The apparent sub-observer point of MPO on Mercury, in the body fixed frame IAU_MERCURY, in kilometers.\n",
    "* The apparent sub-solar point on Mercury, as seen from MPO in the body fixed frame IAU_MERCURY, in kilometers.\n",
    "\n",
    "For the computations use the ellipsoidal shape model:\n",
    "    \n",
    "    near point/ellipsoid\n",
    "    \n",
    "definition.\n",
    "\n",
    "The program displays the results. Use the program to compute these quantities at \"2027 JUN 11 20:10:00\" UTC.\n",
    "  \n",
    "![title](img/sub_solar_sc.png)"
   ]
  },
  {
   "cell_type": "code",
   "execution_count": null,
   "metadata": {},
   "outputs": [],
   "source": []
  },
  {
   "cell_type": "markdown",
   "metadata": {},
   "source": [
    "## Intersecting Vectors with an Ellipsoid (fovint)\n",
    " \n",
    "   Write a program given an input UTC time string that computes the intersection of the MPO SERENA ELENA\n",
    "   boresight and field of view (FOV) boundary vectors with the surface of Mercury.   \n",
    "   The program presents each point of intersection as\n",
    " \n",
    "* Planetocentric (latitudinal) coordinates in the IAU_MERCURY frame.\n",
    " \n",
    "For each of the sensor FOV boundary and boresight vectors, if an\n",
    "   intersection is found, the program displays the results of the above\n",
    "   computations, otherwise it indicates no intersection exists.\n",
    " \n",
    "   At each point of intersection compute the following:\n",
    " \n",
    "* Phase angle\n",
    "* Solar incidence angle\n",
    "* Emission angle\n",
    "\n",
    " \n",
    " Use this program to compute values at \"2027 JUN 11 20:10:00\" UTC.\n",
    " \n",
    "![title](img/fov_intersection.png)"
   ]
  },
  {
   "cell_type": "code",
   "execution_count": null,
   "metadata": {},
   "outputs": [],
   "source": []
  },
  {
   "cell_type": "markdown",
   "metadata": {},
   "source": [
    "## Extra Credit: Lessons with WGC\n",
    "\n",
    "Try to reproduce all the previous calculations with WebGeocalc. You will need to load the appropriate meta-kernel: \"SPICE CLASS -- BepiColombo Remote Sensing Lesson Kernels\""
   ]
  }
 ],
 "metadata": {
  "kernelspec": {
   "display_name": "Python 3",
   "language": "python",
   "name": "python3"
  },
  "language_info": {
   "codemirror_mode": {
    "name": "ipython",
    "version": 3
   },
   "file_extension": ".py",
   "mimetype": "text/x-python",
   "name": "python",
   "nbconvert_exporter": "python",
   "pygments_lexer": "ipython3",
   "version": "3.7.4"
  }
 },
 "nbformat": 4,
 "nbformat_minor": 4
}
