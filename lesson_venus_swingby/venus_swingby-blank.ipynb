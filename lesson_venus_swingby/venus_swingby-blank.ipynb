{
 "cells": [
  {
   "cell_type": "markdown",
   "metadata": {},
   "source": [
    "# BepiColombo First Venus Swingby Hands-On Lesson\n",
    "\n",
    " \n",
    "   Virtual SPICE Training for BepiColombo, July  21-22, 2020\n",
    " \n",
    " \n",
    "## Overview\n",
    "\n",
    " \n",
    "   In this lesson you will develop a series of simple programs that\n",
    "   demonstrate the usage of SpiceyPy to compute a variety of different\n",
    "   geometric quantities applicable to experiments carried out by BepiColombo\n",
    "   MPO during the first Venus swingby.\n",
    "   \n",
    "   You may find it useful to consult the permuted index, the headers of\n",
    "   various source modules, and several Required Reading documents available at \n",
    "   the NAIF site.\n",
    "   \n",
    "   \n",
    "## Find the time of the Venus Swingby using WebGeocalc\n",
    "\n",
    "   First of all exercise the usage of WebGeocalc by finding the closest approach of BEPICOLOMBO MPO to Venus. Use the ESA SPCIE Service WebGeocalc instance for this purpose. \n",
    "\n",
    "* Use an extended Time Window from \"2020-07-10\" UTC to \"2024-10-10\" UTC. Is this the first Venus swingby according to the current kernels?\n",
    "* If not find a way using the same Calculation to obtan the closest approach of the first Venus swingby. Once you have obtained it, save the resulting time.\n",
    "* With the resulting time, compute the distance to Venus using Cosmographia and cross check with your own program if the distance is correct."
   ]
  },
  {
   "cell_type": "code",
   "execution_count": null,
   "metadata": {},
   "outputs": [],
   "source": []
  },
  {
   "cell_type": "markdown",
   "metadata": {},
   "source": [
    "## Visualize the Venus swingby using SPICE-Enhanced Cosmographia and SPOT\n",
    "\n",
    "Start SPICE-enhanced Cosmographia and load the BepiColombo Scenario. Then choose the time of the Venus Closest Approach for the first Venus Swingby and display the MPO-Venus distance, does it correspond to the distance that you have obtained with WebGeocalc and with your program?\n",
    "\n",
    "You can also use the public instance of SPOT to visualize the first Venus swingby, you can access it from here: http://bepicolombo.esac.esa.int/itl-viewer/venus_flyby_1/, is the distance the same as well?\n"
   ]
  },
  {
   "cell_type": "code",
   "execution_count": null,
   "metadata": {},
   "outputs": [],
   "source": []
  },
  {
   "cell_type": "markdown",
   "metadata": {},
   "source": [
    "## Visualize the Venus MERTIS Observation with Cosmographia and SPOT\n",
    "\n",
    "Using SPOT access \"Sensors FoV\" and activate \"MERTIS_TIR\" then click on \"View\", you will now see the visualization using a view direction parallel to the MERTIS TIR Field-of-View, use the time slider to check when Venus will be in the Field-of-View.\n",
    "\n",
    "Afterwards using Cosmographia, load the MERTIS TIR sensor configuration file (on top of the appropriate BepiColombo scenario) and try to replicate the same view-point in the same way that it has been shown during the WebGeocalc and Cosmographia lecture."
   ]
  },
  {
   "cell_type": "code",
   "execution_count": null,
   "metadata": {},
   "outputs": [],
   "source": []
  },
  {
   "cell_type": "markdown",
   "metadata": {},
   "source": [
    "## Intersecting Vectors with an Ellipsoid (bis)\n",
    " \n",
    "   Write a program given an input UTC time string that computes the intersection of the MPO MERTIS TIR\n",
    "   boresight and field of view (FOV) boundary vectors with the surface of Venus.   \n",
    "   The program presents each point of intersection as\n",
    " \n",
    "* Planetocentric (latitudinal) coordinates in the IAU_VENUS frame.\n",
    " \n",
    "For each of the sensor FOV boundary and boresight vectors, if an\n",
    "   intersection is found, the program displays the results of the above\n",
    "   computations, otherwise it indicates no intersection exists.\n",
    " \n",
    "Use this program to compute values at the following times:\n",
    "\n",
    "* \"2020 OCT 13 15:45\" UTC\n",
    "* \"2020 OCT 14 05:05\" UTC\n",
    "* \"2020 OCT 14 22:15\" UTC\n",
    "\n",
    "Can you explain the different results?"
   ]
  },
  {
   "cell_type": "code",
   "execution_count": null,
   "metadata": {},
   "outputs": [],
   "source": []
  },
  {
   "cell_type": "markdown",
   "metadata": {},
   "source": [
    "## Getting serious: Compute the time intervals when Venus is in the MERTIS TIR Field-of-View.\n",
    "\n",
    "Compute the time intervals when Venus is visible by the MERTIS_TIR_SPACE Field-of-View in the time frame of the first Venus swingby using the Geometry Finder Sub-System. Print the resulting time windows.\n",
    "If you feel lost you might find it useful to search for documentation either in the header of the corresponding SPICE API or in the documentation of SpiceyPy: https://spiceypy.readthedocs.io/en/master/event_finding.html\n",
    "\n",
    "Double-check you results with WebGeocalc and with Cosmographia and/or SPOT, do you see any differences? If so, can you explain why?"
   ]
  },
  {
   "cell_type": "code",
   "execution_count": null,
   "metadata": {},
   "outputs": [],
   "source": []
  },
  {
   "cell_type": "markdown",
   "metadata": {},
   "source": [
    "## Extra Credit: Compute the Solar Electrical Propulsion arcs (time intervals when the SEP is on)"
   ]
  },
  {
   "cell_type": "markdown",
   "metadata": {},
   "source": [
    "One of the latest features added to the BepiColombo SPICE Kernel Dataset is the possibility to compute the intervals when the Solar Electrical Propulsion is ON. This is not a straightforward computation with SPICE nor you have the kernels available in the GitHub repository, therefore in order to do so follow these steps:\n",
    "\n",
    "* Identify and download/retrieve the appropriate kernels to compute the SEP intervals and add them to the meta-kernel or FURNSH them\n",
    "* Identify a kernel that will provide you with indications on how to compute the SEP periods.\n",
    "* Write a program to obtain the time intervals as suggested by the before-mentioned kernel.\n",
    "* Double-check your results using WebGeocalc\n",
    "\n",
    "TIP: The Solar Electrical Propulsion frames are mounted on MTM, not on MPO nor MMO.\n"
   ]
  },
  {
   "cell_type": "code",
   "execution_count": null,
   "metadata": {},
   "outputs": [],
   "source": []
  }
 ],
 "metadata": {
  "kernelspec": {
   "display_name": "Python 3",
   "language": "python",
   "name": "python3"
  },
  "language_info": {
   "codemirror_mode": {
    "name": "ipython",
    "version": 3
   },
   "file_extension": ".py",
   "mimetype": "text/x-python",
   "name": "python",
   "nbconvert_exporter": "python",
   "pygments_lexer": "ipython3",
   "version": "3.7.4"
  }
 },
 "nbformat": 4,
 "nbformat_minor": 4
}
